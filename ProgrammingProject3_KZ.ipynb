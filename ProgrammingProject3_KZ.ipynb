{
 "cells": [
  {
   "cell_type": "markdown",
   "metadata": {},
   "source": [
    "# Programming Project 3\n",
    "---\n",
    "**Author:** Katie Zopff  \n",
    "**Version:** 1.0  \n",
    "**Semester:** Fall 2020  \n",
    "\n",
    "This *notebook* contains my solution to **Programming Project 3**\n"
   ]
  },
  {
   "cell_type": "code",
   "execution_count": 91,
   "metadata": {},
   "outputs": [],
   "source": [
    "import numpy as np\n",
    "import csv\n",
    "from prettytable import PrettyTable\n",
    "from prettytable import from_csv"
   ]
  },
  {
   "cell_type": "markdown",
   "metadata": {},
   "source": [
    "**1.)**"
   ]
  },
  {
   "cell_type": "code",
   "execution_count": 102,
   "metadata": {},
   "outputs": [],
   "source": [
    "def download(filename):\n",
    "    \"\"\"This function accepts a file name and opens that file and saves it as a list.\"\"\"\n",
    "    with open(filename, mode='r', newline='') as data:\n",
    "        reader = csv.reader(data)\n",
    "        data = list(reader)\n",
    "    return data"
   ]
  },
  {
   "cell_type": "markdown",
   "metadata": {},
   "source": [
    "**2.)**"
   ]
  },
  {
   "cell_type": "code",
   "execution_count": 103,
   "metadata": {},
   "outputs": [],
   "source": [
    "def create_array(dataset):\n",
    "    \"\"\"This function accepts a dataset and returns it as an array without the first row and without the first two columns, and converts all numerical data previously stored as strings into integers.\"\"\"\n",
    "    newarray = np.array(dataset)\n",
    "    newarray = np.delete(newarray, 0, 0)\n",
    "    newarray = np.delete(newarray, 0, 1)\n",
    "    newarray = np.delete(newarray, 0, 1)\n",
    "    newarray = newarray.astype(np.float)\n",
    "    return newarray"
   ]
  },
  {
   "cell_type": "markdown",
   "metadata": {},
   "source": [
    "**3.)**"
   ]
  },
  {
   "cell_type": "code",
   "execution_count": 104,
   "metadata": {},
   "outputs": [],
   "source": [
    "def create_table(filename): \n",
    "    \"\"\"This function accepts a file name and creates a table from all of the information within the file.\"\"\"\n",
    "    with open(filename, \"r\") as data: \n",
    "        x = from_csv(data)\n",
    "        x.align = 'r'\n",
    "        x.align['Code'] = 'l'\n",
    "    print(x)\n",
    "    return"
   ]
  },
  {
   "cell_type": "markdown",
   "metadata": {},
   "source": [
    "**4.)**"
   ]
  },
  {
   "cell_type": "code",
   "execution_count": 105,
   "metadata": {},
   "outputs": [],
   "source": [
    "def formatnumbers(numbers):\n",
    "    \"\"\"This function accepts a list of numbers and format the numbers within the list to have comma separators and two decimal places.\"\"\"\n",
    "    formattednumbers = ['{:,.2f}'.format(i) for i in numbers]\n",
    "    return formattednumbers"
   ]
  },
  {
   "cell_type": "code",
   "execution_count": 106,
   "metadata": {},
   "outputs": [],
   "source": [
    "def summary_table(dataset):\n",
    "    \"\"\"This function accepts a dataset, creates lists of the means, maxes, and mins of each column of that dataset, and returns a table of all the calculated data.\"\"\"\n",
    "    means1 = list(np.mean(dataset, axis=0))\n",
    "    maxes1 = list(np.amax(dataset, axis=0))\n",
    "    mins1 = list(np.amin(dataset, axis=0))\n",
    "    \n",
    "    means = formatnumbers(means1)\n",
    "    maxes = formatnumbers(maxes1)\n",
    "    mins = formatnumbers(mins1)\n",
    "    \n",
    "    x = PrettyTable()\n",
    "    x.field_names = ['Summary Measure', '2015', '2016', '2017', '2018', '2019']\n",
    "    x.add_row(['MEAN', means[0], means[1], means[2], means[3], means[4]])\n",
    "    x.add_row(['MAX', maxes[0], maxes[1], maxes[2], maxes[3], maxes[4]])\n",
    "    x.add_row(['MIN', mins[0], mins[1], mins[2], mins[3], mins[4]])\n",
    "    x.align = 'r'\n",
    "    print(x)\n",
    "    return"
   ]
  },
  {
   "cell_type": "markdown",
   "metadata": {},
   "source": [
    "**5.)**"
   ]
  },
  {
   "cell_type": "code",
   "execution_count": 107,
   "metadata": {
    "scrolled": false
   },
   "outputs": [
    {
     "name": "stdout",
     "output_type": "stream",
     "text": [
      "+--------------------------+------+-----------+-----------+-----------+-----------+-----------+\n",
      "|                  Country | Code |      2015 |      2016 |      2017 |      2018 |      2019 |\n",
      "+--------------------------+------+-----------+-----------+-----------+-----------+-----------+\n",
      "|                  Algeria | DZA  |  39728025 |  40551404 |  41389198 |  42228429 |  43053054 |\n",
      "|                   Angola | AGO  |  27884381 |  28842484 |  29816748 |  30809762 |  31825295 |\n",
      "|                    Benin | BEN  |  10575952 |  10872067 |  11175204 |  11485048 |  11801151 |\n",
      "|                 Botswana | BWA  |   2120716 |   2159944 |   2205128 |   2254126 |   2303697 |\n",
      "|             Burkina Faso | BFA  |  18110624 |  18646378 |  19193284 |  19751535 |  20321378 |\n",
      "|               Cabo Verde | CPV  |    524743 |    531146 |    537497 |    543767 |    549935 |\n",
      "|                 Cameroon | CMR  |  23298368 |  23926539 |  24566045 |  25216237 |  25876380 |\n",
      "| Central African Republic | CAF  |   4493170 |   4537687 |   4596028 |   4666377 |   4745185 |\n",
      "|                     Chad | TCD  |  14110975 |  14561666 |  15016773 |  15477751 |  15946876 |\n",
      "|                  Comoros | COM  |    777424 |    795592 |    813892 |    832322 |    850886 |\n",
      "|         Congo, Dem. Rep. | COD  |  76244544 |  78789127 |  81398764 |  84068091 |  86790567 |\n",
      "|              Congo, Rep. | COG  |   4856095 |   4980999 |   5110702 |   5244363 |   5380508 |\n",
      "|            Cote d'Ivoire | CIV  |  23226143 |  23822714 |  24437469 |  25069229 |  25716544 |\n",
      "|                 Djibouti | DJI  |    913993 |    929112 |    944097 |    958920 |    973560 |\n",
      "|         Egypt, Arab Rep. | EGY  |  92442547 |  94447072 |  96442593 |  98423595 | 100388073 |\n",
      "|        Equatorial Guinea | GNQ  |   1168568 |   1215179 |   1262001 |   1308974 |   1355986 |\n",
      "|                 Eswatini | SWZ  |   1104044 |   1113984 |   1124753 |   1136191 |   1148130 |\n",
      "|                 Ethiopia | ETH  | 100835458 | 103603501 | 106400024 | 109224559 | 112078730 |\n",
      "|                    Gabon | GAB  |   1947686 |   2007873 |   2064823 |   2119275 |   2172579 |\n",
      "|                   Gambia | GMB  |   2085860 |   2149139 |   2213894 |   2280102 |   2347706 |\n",
      "|                    Ghana | GHA  |  27849205 |  28481946 |  29121471 |  29767108 |  30417856 |\n",
      "|                   Guinea | GIN  |  11432088 |  11738441 |  12067539 |  12414318 |  12771246 |\n",
      "|            Guinea-Bissau | GNB  |   1737202 |   1782437 |   1828146 |   1874309 |   1920922 |\n",
      "|                    Kenya | KEN  |  47878336 |  49051686 |  50221473 |  51393010 |  52573973 |\n",
      "|                  Lesotho | LSO  |   2059021 |   2075001 |   2091412 |   2108132 |   2125268 |\n",
      "|                  Liberia | LBR  |   4472230 |   4586788 |   4702228 |   4818977 |   4937374 |\n",
      "|                    Libya | LBY  |   6418315 |   6492164 |   6580724 |   6678567 |   6777452 |\n",
      "|                   Malawi | MWI  |  16745303 |  17205289 |  17670260 |  18143315 |  18628747 |\n",
      "|                     Mali | MLI  |  17438778 |  17965429 |  18512394 |  19077690 |  19658031 |\n",
      "|               Mauritania | MRT  |   4046301 |   4163534 |   4282574 |   4403319 |   4525696 |\n",
      "|                Mauritius | MUS  |   1262605 |   1263473 |   1264613 |   1265303 |   1265711 |\n",
      "|                  Morocco | MAR  |  34663603 |  35126296 |  35581294 |  36029138 |  36471769 |\n",
      "|               Mozambique | MOZ  |  27042002 |  27829942 |  28649007 |  29495962 |  30366036 |\n",
      "|                  Namibia | NAM  |   2314904 |   2358041 |   2402603 |   2448255 |   2494530 |\n",
      "|                    Niger | NER  |  20001663 |  20788838 |  21602472 |  22442948 |  23310715 |\n",
      "|                  Nigeria | NGA  | 181137448 | 185960289 | 190873311 | 195874740 | 200963599 |\n",
      "|                   Rwanda | RWA  |  11369071 |  11668818 |  11980937 |  12301939 |  12626950 |\n",
      "|    Sao Tome and Principe | STP  |    199432 |    203227 |    207089 |    211028 |    215056 |\n",
      "|                  Senegal | SEN  |  14578459 |  14993528 |  15419381 |  15854360 |  16296364 |\n",
      "|               Seychelles | SYC  |     93419 |     94677 |     95843 |     96762 |     97625 |\n",
      "|             Sierra Leone | SLE  |   7171914 |   7328838 |   7488431 |   7650154 |   7813215 |\n",
      "|                  Somalia | SOM  |  13797201 |  14185613 |  14589119 |  15008154 |  15442905 |\n",
      "|             South Africa | ZAF  |  55386367 |  56203654 |  57000451 |  57779622 |  58558270 |\n",
      "|              South Sudan | SSD  |  10715658 |  10832512 |  10910759 |  10975920 |  11062113 |\n",
      "|                    Sudan | SDN  |  38902950 |  39847440 |  40813396 |  41801533 |  42813238 |\n",
      "|                 Tanzania | TZA  |  51482633 |  53050790 |  54663906 |  56318348 |  58005463 |\n",
      "|                     Togo | TGO  |   7323158 |   7509952 |   7698475 |   7889094 |   8082366 |\n",
      "|                  Tunisia | TUN  |  11179949 |  11303946 |  11433443 |  11565204 |  11694719 |\n",
      "|                   Uganda | UGA  |  38225453 |  39647506 |  41162465 |  42723139 |  44269594 |\n",
      "|              Yemen, Rep. | YEM  |  26497889 |  27168210 |  27834821 |  28498687 |  29161922 |\n",
      "|                   Zambia | ZMB  |  15879361 |  16363507 |  16853688 |  17351822 |  17861030 |\n",
      "|                 Zimbabwe | ZWE  |  13814629 |  14030390 |  14236745 |  14439018 |  14645468 |\n",
      "+--------------------------+------+-----------+-----------+-----------+-----------+-----------+\n",
      "+-----------------+----------------+----------------+----------------+----------------+----------------+\n",
      "| Summary Measure |           2015 |           2016 |           2017 |           2018 |           2019 |\n",
      "+-----------------+----------------+----------------+----------------+----------------+----------------+\n",
      "|            MEAN |  22,491,651.21 |  23,072,804.02 |  23,664,411.29 |  24,265,356.31 |  24,874,643.13 |\n",
      "|             MAX | 181,137,448.00 | 185,960,289.00 | 190,873,311.00 | 195,874,740.00 | 200,963,599.00 |\n",
      "|             MIN |      93,419.00 |      94,677.00 |      95,843.00 |      96,762.00 |      97,625.00 |\n",
      "+-----------------+----------------+----------------+----------------+----------------+----------------+\n"
     ]
    }
   ],
   "source": [
    "data = download('africa_pop_data.csv')\n",
    "numerical_data_array = create_array(data)\n",
    "create_table('africa_pop_data.csv')\n",
    "summary_table(numerical_data_array)"
   ]
  }
 ],
 "metadata": {
  "kernelspec": {
   "display_name": "Python 3",
   "language": "python",
   "name": "python3"
  },
  "language_info": {
   "codemirror_mode": {
    "name": "ipython",
    "version": 3
   },
   "file_extension": ".py",
   "mimetype": "text/x-python",
   "name": "python",
   "nbconvert_exporter": "python",
   "pygments_lexer": "ipython3",
   "version": "3.8.3"
  }
 },
 "nbformat": 4,
 "nbformat_minor": 4
}
